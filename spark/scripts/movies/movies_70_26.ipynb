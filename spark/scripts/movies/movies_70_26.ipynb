{
 "cells": [
  {
   "cell_type": "code",
   "execution_count": 1,
   "id": "51e9af32-4a41-4273-91d8-a1de5e366ab4",
   "metadata": {},
   "outputs": [],
   "source": [
    "import os\n",
    "import time\n",
    "import calendar\n",
    "import requests\n",
    "from pyspark.sql import SparkSession\n",
    "from pyspark.sql.types import StructType, StructField, StringType, IntegerType, ArrayType\n",
    "from pyspark.sql.functions import col, sum\n",
    "from datetime import datetime, timedelta\n",
    "from dotenv import load_dotenv"
   ]
  },
  {
   "cell_type": "code",
   "execution_count": 2,
   "id": "ea31425e-970b-4791-9ff2-b414b27b69e8",
   "metadata": {
    "scrolled": true
   },
   "outputs": [
    {
     "name": "stdout",
     "output_type": "stream",
     "text": [
      ":: loading settings :: url = jar:file:/opt/bitnami/spark/jars/ivy-2.5.1.jar!/org/apache/ivy/core/settings/ivysettings.xml\n"
     ]
    },
    {
     "name": "stderr",
     "output_type": "stream",
     "text": [
      "Ivy Default Cache set to: /root/.ivy2/cache\n",
      "The jars for the packages stored in: /root/.ivy2/jars\n",
      "org.apache.hadoop#hadoop-aws added as a dependency\n",
      "com.amazonaws#aws-java-sdk-bundle added as a dependency\n",
      ":: resolving dependencies :: org.apache.spark#spark-submit-parent-ee6907ce-0655-487b-bcd6-07e146071a49;1.0\n",
      "\tconfs: [default]\n",
      "\tfound org.apache.hadoop#hadoop-aws;3.3.1 in central\n",
      "\tfound com.amazonaws#aws-java-sdk-bundle;1.11.901 in central\n",
      "\tfound org.wildfly.openssl#wildfly-openssl;1.0.7.Final in central\n",
      ":: resolution report :: resolve 249ms :: artifacts dl 5ms\n",
      "\t:: modules in use:\n",
      "\tcom.amazonaws#aws-java-sdk-bundle;1.11.901 from central in [default]\n",
      "\torg.apache.hadoop#hadoop-aws;3.3.1 from central in [default]\n",
      "\torg.wildfly.openssl#wildfly-openssl;1.0.7.Final from central in [default]\n",
      "\t---------------------------------------------------------------------\n",
      "\t|                  |            modules            ||   artifacts   |\n",
      "\t|       conf       | number| search|dwnlded|evicted|| number|dwnlded|\n",
      "\t---------------------------------------------------------------------\n",
      "\t|      default     |   3   |   0   |   0   |   0   ||   3   |   0   |\n",
      "\t---------------------------------------------------------------------\n",
      ":: retrieving :: org.apache.spark#spark-submit-parent-ee6907ce-0655-487b-bcd6-07e146071a49\n",
      "\tconfs: [default]\n",
      "\t0 artifacts copied, 3 already retrieved (0kB/6ms)\n",
      "25/02/28 03:14:57 WARN NativeCodeLoader: Unable to load native-hadoop library for your platform... using builtin-java classes where applicable\n",
      "Setting default log level to \"WARN\".\n",
      "To adjust logging level use sc.setLogLevel(newLevel). For SparkR, use setLogLevel(newLevel).\n"
     ]
    }
   ],
   "source": [
    "spark = SparkSession.builder \\\n",
    "    .appName(\"Movies_70_26\") \\\n",
    "    .master(\"spark://spark:7077\") \\\n",
    "    .config(\"spark.executor.memory\", \"6g\")  \\\n",
    "    .config(\"spark.executor.cores\", \"1\") \\\n",
    "    .config(\"spark.hadoop.fs.s3a.access.key\", os.getenv(\"AWS_ACCESS_KEY_ID\")) \\\n",
    "    .config(\"spark.hadoop.fs.s3a.secret.key\", os.getenv(\"AWS_SECRET_ACCESS_KEY\")) \\\n",
    "    .config(\"spark.hadoop.fs.s3a.endpoint\", \"http://minio:9000\") \\\n",
    "    .config(\"spark.jars.packages\", \"org.apache.hadoop:hadoop-aws:3.3.1,com.amazonaws:aws-java-sdk-bundle:1.11.901\") \\\n",
    "    .config(\"spark.hadoop.fs.s3a.path.style.access\", \"true\") \\\n",
    "    .config(\"spark.hadoop.fs.s3a.connection.ssl.enabled\", \"false\") \\\n",
    "    .config(\"spark.hadoop.fs.s3a.impl\", \"org.apache.hadoop.fs.s3a.S3AFileSystem\") \\\n",
    "    .getOrCreate()"
   ]
  },
  {
   "cell_type": "code",
   "execution_count": 3,
   "id": "4c95c420-b990-4194-b447-0537f9825a18",
   "metadata": {},
   "outputs": [
    {
     "name": "stderr",
     "output_type": "stream",
     "text": [
      "25/02/28 03:15:01 WARN MetricsConfig: Cannot locate configuration: tried hadoop-metrics2-s3a-file-system.properties,hadoop-metrics2.properties\n",
      "                                                                                "
     ]
    },
    {
     "name": "stdout",
     "output_type": "stream",
     "text": [
      "Registros originais: 748896\n"
     ]
    },
    {
     "name": "stderr",
     "output_type": "stream",
     "text": [
      "                                                                                "
     ]
    },
    {
     "name": "stdout",
     "output_type": "stream",
     "text": [
      "Registros após remoção de duplicados: 748896\n",
      "+-------+--------------------+--------------------+------------+------------+------------------+\n",
      "|     id|               title|            overview|release_date|vote_average|         genre_ids|\n",
      "+-------+--------------------+--------------------+------------+------------+------------------+\n",
      "| 113727|      Dark Seduction|Laura is a succes...|  2010-01-01|         7.0|   [18, 53, 10749]|\n",
      "|1339825|The Cast of 'Lost...|Retrospective on ...|  2010-01-01|         0.0| [18, 14, 99, 878]|\n",
      "| 333926|        Online Crush|Love is just a mo...|  2010-01-01|         4.8|              [18]|\n",
      "|  43615|Lula, the Son of ...|The true story of...|  2010-01-01|         5.5|          [18, 36]|\n",
      "|  67250|                  12|12, is a comic pa...|  2010-01-01|       5.009|              [35]|\n",
      "|  68712|  The Lazarus Papers|Lonny Smith, a yo...|  2010-01-01|         4.0| [18, 28, 53, 878]|\n",
      "| 348521|           Love/Loss|A chance meeting ...|  2010-01-01|         0.0|[10749, 18, 10751]|\n",
      "| 153599|        Wisdom Teeth|After a wisdom to...|  2010-01-01|         6.7|          [35, 16]|\n",
      "|  66157|          GravyTrain|Gypsy Creek's # 1...|  2010-01-01|         5.0|              [35]|\n",
      "| 147503|  The Counterfeiters|The plot revolves...|  2010-01-01|         4.6|    [10752, 10770]|\n",
      "+-------+--------------------+--------------------+------------+------------+------------------+\n",
      "only showing top 10 rows\n",
      "\n"
     ]
    }
   ],
   "source": [
    "# Lê todos os diretórios que começam com 'movie_' na camada bronze\n",
    "df = spark.read.parquet(\"s3a://bronze/movie_*\")\n",
    "\n",
    "# Remove linhas com IDs duplicados mantendo a primeira ocorrência\n",
    "df_deduplicado = df.dropDuplicates([\"id\"])\n",
    "\n",
    "# Opcional: Verificar o resultado\n",
    "print(f\"Registros originais: {df.count()}\")\n",
    "print(f\"Registros após remoção de duplicados: {df_deduplicado.count()}\")\n",
    "\n",
    "df.show(10)"
   ]
  },
  {
   "cell_type": "code",
   "execution_count": 4,
   "id": "d634df16-57f0-450c-9958-3030faee80e3",
   "metadata": {},
   "outputs": [
    {
     "name": "stderr",
     "output_type": "stream",
     "text": [
      "[Stage 11:======================================>                   (2 + 1) / 3]"
     ]
    },
    {
     "name": "stdout",
     "output_type": "stream",
     "text": [
      "+---+-----+--------+------------+------------+---------+\n",
      "| id|title|overview|release_date|vote_average|genre_ids|\n",
      "+---+-----+--------+------------+------------+---------+\n",
      "|  0|    0|       0|           0|           0|        0|\n",
      "+---+-----+--------+------------+------------+---------+\n",
      "\n"
     ]
    },
    {
     "name": "stderr",
     "output_type": "stream",
     "text": [
      "                                                                                "
     ]
    }
   ],
   "source": [
    "df.select([sum(col(c).isNull().cast(\"int\")).alias(c) for c in df.columns]).show()"
   ]
  },
  {
   "cell_type": "code",
   "execution_count": 5,
   "id": "9c997ca5-527b-476b-a84d-3eb2b4f4e832",
   "metadata": {},
   "outputs": [
    {
     "name": "stderr",
     "output_type": "stream",
     "text": [
      "                                                                                "
     ]
    },
    {
     "name": "stdout",
     "output_type": "stream",
     "text": [
      "Escrita no MinIO concluída com sucesso!\n",
      "Lendo dados do MinIO para verificação...\n"
     ]
    },
    {
     "name": "stderr",
     "output_type": "stream",
     "text": [
      "                                                                                "
     ]
    },
    {
     "name": "stdout",
     "output_type": "stream",
     "text": [
      "+-------+--------------------+--------------------+------------+------------+-----------------+\n",
      "|     id|               title|            overview|release_date|vote_average|        genre_ids|\n",
      "+-------+--------------------+--------------------+------------+------------+-----------------+\n",
      "| 113727|      Dark Seduction|Laura is a succes...|  2010-01-01|         7.0|  [18, 53, 10749]|\n",
      "|1339825|The Cast of 'Lost...|Retrospective on ...|  2010-01-01|         0.0|[18, 14, 99, 878]|\n",
      "| 333926|        Online Crush|Love is just a mo...|  2010-01-01|         4.8|             [18]|\n",
      "|  43615|Lula, the Son of ...|The true story of...|  2010-01-01|         5.5|         [18, 36]|\n",
      "|  67250|                  12|12, is a comic pa...|  2010-01-01|       5.009|             [35]|\n",
      "+-------+--------------------+--------------------+------------+------------+-----------------+\n",
      "only showing top 5 rows\n",
      "\n"
     ]
    }
   ],
   "source": [
    "# Escreve no MinIO\n",
    "df.write \\\n",
    "  .format(\"parquet\") \\\n",
    "  .mode(\"overwrite\") \\\n",
    "  .save(\"s3a://silver/movies_70_26/\")\n",
    "\n",
    "print(\"Escrita no MinIO concluída com sucesso!\")\n",
    "\n",
    "# Para verificação, lê os dados escritos\n",
    "print(\"Lendo dados do MinIO para verificação...\")\n",
    "df_read = spark.read.parquet(\"s3a://silver/movies_70_26/\")\n",
    "df_read.show(5)\n",
    "\n",
    "spark.stop()"
   ]
  }
 ],
 "metadata": {
  "kernelspec": {
   "display_name": "Python 3 (ipykernel)",
   "language": "python",
   "name": "python3"
  },
  "language_info": {
   "codemirror_mode": {
    "name": "ipython",
    "version": 3
   },
   "file_extension": ".py",
   "mimetype": "text/x-python",
   "name": "python",
   "nbconvert_exporter": "python",
   "pygments_lexer": "ipython3",
   "version": "3.12.9"
  }
 },
 "nbformat": 4,
 "nbformat_minor": 5
}
